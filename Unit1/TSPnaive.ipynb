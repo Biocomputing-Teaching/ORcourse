{
  "nbformat": 4,
  "nbformat_minor": 0,
  "metadata": {
    "colab": {
      "name": "TSPnaive.ipynb",
      "provenance": [],
      "authorship_tag": "ABX9TyNFlEY/+qFe4Xoeo8J0JpBq",
      "include_colab_link": true
    },
    "kernelspec": {
      "name": "python3",
      "display_name": "Python 3"
    },
    "language_info": {
      "name": "python"
    }
  },
  "cells": [
    {
      "cell_type": "markdown",
      "metadata": {
        "id": "view-in-github",
        "colab_type": "text"
      },
      "source": [
        "<a href=\"https://colab.research.google.com/github/JordiVillaFreixa/ORcode/blob/main/TSPnaive.ipynb\" target=\"_parent\"><img src=\"https://colab.research.google.com/assets/colab-badge.svg\" alt=\"Open In Colab\"/></a>"
      ]
    },
    {
      "cell_type": "code",
      "execution_count": 17,
      "metadata": {
        "colab": {
          "base_uri": "https://localhost:8080/"
        },
        "id": "jyB_FV2Hst8G",
        "outputId": "4c90ebd8-137c-4b32-b3ce-34e258edc14e"
      },
      "outputs": [
        {
          "output_type": "stream",
          "name": "stdout",
          "text": [
            "<itertools.permutations object at 0x7fd5f9972b30>\n",
            "(1, 2, 3)\n",
            "9223372036854775807\n",
            "(1, 3, 2)\n",
            "95\n",
            "(2, 1, 3)\n",
            "80\n",
            "(2, 3, 1)\n",
            "80\n",
            "(3, 1, 2)\n",
            "80\n",
            "(3, 2, 1)\n",
            "80\n",
            "80\n"
          ]
        }
      ],
      "source": [
        "# Python3 program to implement traveling salesman\n",
        "# problem using naive approach.\n",
        "# https://www.geeksforgeeks.org/traveling-salesman-problem-tsp-implementation/\n",
        "\n",
        "from sys import maxsize\n",
        "from itertools import permutations\n",
        "V = 4\n",
        "\n",
        "# implementation of traveling Salesman Problem\n",
        "def travellingSalesmanProblem(graph, s):\n",
        "\n",
        "    # store all vertex apart from source vertex\n",
        "    vertex = []\n",
        "    for i in range(V):\n",
        "        if i != s:\n",
        "            vertex.append(i)\n",
        "\n",
        "    # store minimum weight Hamiltonian Cycle\n",
        "    min_path = maxsize\n",
        "    next_permutation=permutations(vertex)\n",
        "    print(next_permutation)\n",
        "    for i in next_permutation:\n",
        "        print(i)\n",
        "        # store current Path weight(cost)\n",
        "        current_pathweight = 0\n",
        "\n",
        "        # compute current path weight\n",
        "        k = s\n",
        "        for j in i:\n",
        "            current_pathweight += graph[k][j]\n",
        "            k = j\n",
        "        current_pathweight += graph[k][s]\n",
        "\n",
        "        # update minimum\n",
        "        print(min_path)\n",
        "        min_path = min(min_path, current_pathweight)\n",
        "    return min_path\n",
        "\n",
        "\n",
        "# Driver Code\n",
        "if __name__ == \"__main__\":\n",
        "\n",
        "    # matrix representation of graph\n",
        "        graph = [[0, 10, 15, 20], [10, 0, 35, 25],\n",
        "                [15, 35, 0, 30], [20, 25, 30, 0]]\n",
        "        s = 0\n",
        "        print(travellingSalesmanProblem(graph, s))\n"
      ]
    }
  ]
}