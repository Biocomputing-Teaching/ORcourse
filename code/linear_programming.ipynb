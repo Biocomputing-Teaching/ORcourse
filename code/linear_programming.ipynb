{
 "cells": [
  {
   "cell_type": "markdown",
   "metadata": {},
   "source": [
    "# A function to solve a linear programming problem using OR-Tools library.\n",
    "\n",
    "Input: \n",
    "- solver: A solver object created using pywraplp module of OR-Tools library.\n",
    "- variable_list: A list of variables used in the problem, created using the NumVar method of the solver object.\n",
    "- constraint_list: A list of constraints added to the problem, created using the Add method of the solver object.\n",
    "\n",
    "Output:\n",
    "- Prints the number of variables and constraints in the problem.\n",
    "- Solves the problem and prints the optimal solution, time taken, and reduced cost of each variable.\n",
    "- Prints the dual value and activity level of each constraint.\n",
    "\n",
    "\n"
   ]
  },
  {
   "cell_type": "code",
   "execution_count": null,
   "metadata": {},
   "outputs": [
    {
     "ename": "",
     "evalue": "",
     "output_type": "error",
     "traceback": [
      "\u001b[1;31mRunning cells with 'Python 3.12.2' requires the ipykernel package.\n",
      "\u001b[1;31mRun the following command to install 'ipykernel' into the Python environment. \n",
      "\u001b[1;31mCommand: '/usr/local/bin/python3 -m pip install ipykernel -U --user --force-reinstall'"
     ]
    }
   ],
   "source": [
    "\n",
    "from ortools.linear_solver import pywraplp\n",
    "\n",
    "def ShowResults(solver, variable_list, constraint_list):\n",
    "    \"\"\"Solve the problem and print the solution.\"\"\"\n",
    "    print('# of variables = %d' % solver.NumVariables())\n",
    "    print('# of constraints = %d' % solver.NumConstraints())\n",
    "\n",
    "    result_status = solver.Solve()\n",
    "\n",
    "    # check results are ok\n",
    "    assert result_status == pywraplp.Solver.OPTIMAL\n",
    "    assert solver.VerifySolution(1e-7, True)\n",
    "\n",
    "    print('Problem solved in %f milliseconds' % solver.wall_time())\n",
    "    print('Optimal objective value = %f' % solver.Objective().Value())\n",
    "    for variable in variable_list:\n",
    "        print('%s = %f' % (variable.name(), variable.solution_value()))\n",
    "    print('Problem solved in %d iterations' % solver.iterations())\n",
    "    for variable in variable_list:\n",
    "        print('%s: reduced cost = %f' %\n",
    "              (variable.name(), variable.reduced_cost()))\n",
    "    activities = solver.ComputeConstraintActivities()\n",
    "    for i, constraint in enumerate(constraint_list):\n",
    "        print(('constraint %d: dual value (shadow price) = %f\\n'\n",
    "               '              final value (activity) = %f\\n'\n",
    "               '              slack  = %f' %\n",
    "               (i, constraint.dual_value(), activities[constraint.index()],constraint.ub()-activities[constraint.index()])))\n"
   ]
  },
  {
   "cell_type": "markdown",
   "metadata": {},
   "source": [
    "run code"
   ]
  },
  {
   "cell_type": "code",
   "execution_count": null,
   "metadata": {},
   "outputs": [
    {
     "ename": "",
     "evalue": "",
     "output_type": "error",
     "traceback": [
      "\u001b[1;31mRunning cells with 'Python 3.12.2' requires the ipykernel package.\n",
      "\u001b[1;31mRun the following command to install 'ipykernel' into the Python environment. \n",
      "\u001b[1;31mCommand: '/usr/local/bin/python3 -m pip install ipykernel -U --user --force-reinstall'"
     ]
    }
   ],
   "source": [
    "\n",
    "# Define the solver to use\n",
    "solver = pywraplp.Solver.CreateSolver('GLOP')\n",
    "\n",
    "# Define the problem\n",
    "infinity = solver.infinity()\n",
    "x1 = solver.NumVar(0.0, infinity, 'XA')\n",
    "x2 = solver.NumVar(0.0, infinity, 'XB')\n",
    "\n",
    "solver.Maximize(1240 * x1 + 600 * x2)\n",
    "c0 = solver.Add(50 * x1 + 30 * x2  <= 2000, 'Material')\n",
    "c1 = solver.Add(6 * x1 + 5 * x2  <= 300, 'MachineTime')\n",
    "c2 = solver.Add(3 * x1 + 5 * x2  <= 200, 'Labor')\n",
    "\n",
    "ShowResults(solver, [x1, x2], [c0, c1, c2])\n",
    "\n",
    "\n",
    "# (un)finnished tables and chairs problem\n",
    "# Define the problem\n",
    "\n",
    "# infinity = solver.infinity()\n",
    "# tu = solver.NumVar(0.0, infinity, 'TU')\n",
    "# tf = solver.NumVar(0.0, infinity, 'TF')\n",
    "# cu = solver.NumVar(0.0, infinity, 'CU')\n",
    "# cf = solver.NumVar(0.0, infinity, 'CF')\n",
    "\n",
    "   \n",
    "# #solver.Maximize(70 * tu + 140 * tf + 60 * cu + 110 * cf)\n",
    "# solver.Maximize((70-25) * tu + (140-25) * tf + (70-12.5) * cu + (110-12.5) * cf)\n",
    "# c1 = solver.Add(1 * tu + 1 * tf + 0.5 * cu + 0.5 * cf  <= 900, 'Material')\n",
    "# c2 = solver.Add(2 * tu + 5 * tf + 2 * cu + 4 * cf  <= 6000, 'Labor')\n",
    "\n",
    "# ShowResults(solver, [tu, tf, cu, cf], [c1, c2])"
   ]
  }
 ],
 "metadata": {
  "kernelspec": {
   "display_name": "Python 3",
   "language": "python",
   "name": "python3"
  },
  "language_info": {
   "codemirror_mode": {
    "name": "ipython",
    "version": 3
   },
   "file_extension": ".py",
   "mimetype": "text/x-python",
   "name": "python",
   "nbconvert_exporter": "python",
   "pygments_lexer": "ipython3",
   "version": "3.12.2"
  }
 },
 "nbformat": 4,
 "nbformat_minor": 2
}
