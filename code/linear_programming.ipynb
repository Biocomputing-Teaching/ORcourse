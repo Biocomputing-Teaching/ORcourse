{
 "cells": [
  {
   "cell_type": "markdown",
   "metadata": {},
   "source": [
    "# A function to solve a linear programming problem using OR-Tools library.\n",
    "\n",
    "Input: \n",
    "- solver: A solver object created using pywraplp module of OR-Tools library.\n",
    "- variable_list: A list of variables used in the problem, created using the NumVar method of the solver object.\n",
    "- constraint_list: A list of constraints added to the problem, created using the Add method of the solver object.\n",
    "\n",
    "Output:\n",
    "- Prints the number of variables and constraints in the problem.\n",
    "- Solves the problem and prints the optimal solution, time taken, and reduced cost of each variable.\n",
    "- Prints the dual value and activity level of each constraint.\n",
    "\n",
    "\n"
   ]
  },
  {
   "cell_type": "code",
   "execution_count": 58,
   "metadata": {},
   "outputs": [],
   "source": [
    "\n",
    "from ortools.linear_solver import pywraplp\n",
    "\n",
    "def ShowResults(solver, variable_list, constraint_list):\n",
    "    \"\"\"Solve the problem and print the solution.\"\"\"\n",
    "    print('# of variables = %d' % solver.NumVariables())\n",
    "    print('# of constraints = %d' % solver.NumConstraints())\n",
    "\n",
    "    result_status = solver.Solve()\n",
    "\n",
    "    # check results are ok\n",
    "    assert result_status == pywraplp.Solver.OPTIMAL\n",
    "    assert solver.VerifySolution(1e-7, True)\n",
    "\n",
    "    print('Problem solved in %f milliseconds' % solver.wall_time())\n",
    "    print('Optimal objective value = %f' % solver.Objective().Value())\n",
    "    for variable in variable_list:\n",
    "        print('%s = %f' % (variable.name(), variable.solution_value()))\n",
    "    print('Problem solved in %d iterations' % solver.iterations())\n",
    "    for variable in variable_list:\n",
    "        print('%s: reduced cost = %f' %\n",
    "              (variable.name(), variable.reduced_cost()))\n",
    "    activities = solver.ComputeConstraintActivities()\n",
    "    for i, constraint in enumerate(constraint_list):\n",
    "        print(('constraint %d: dual value (shadow price) = %f\\n'\n",
    "               '              final value (activity) = %f\\n'\n",
    "               '              slack  = %f' %\n",
    "               (i, constraint.dual_value(), activities[constraint.index()],constraint.ub()-activities[constraint.index()])))\n"
   ]
  },
  {
   "cell_type": "code",
   "execution_count": 59,
   "metadata": {},
   "outputs": [],
   "source": [
    "import matplotlib.pyplot as plt\n",
    "import numpy as np\n",
    "from mpl_toolkits.mplot3d import Axes3D\n",
    "\n",
    "def plot_solution(variable_list, constraint_list):\n",
    "    num_vars = len(variable_list)\n",
    "    \n",
    "    if num_vars == 2:\n",
    "        x_vals = np.linspace(0, 100, 400)\n",
    "        \n",
    "        plt.figure(figsize=(10, 6))\n",
    "        \n",
    "        for constraint in constraint_list:\n",
    "            coeffs = constraint.coefficients()\n",
    "            intercept = constraint.ub()\n",
    "            slope = -coeffs[0] / coeffs[1] if coeffs[1] != 0 else float('inf')\n",
    "            if slope != float('inf'):\n",
    "                intercept /= coeffs[1]\n",
    "                y_vals = (intercept - coeffs[0] * x_vals / coeffs[1])\n",
    "                plt.plot(x_vals, y_vals, label=constraint.name())\n",
    "        \n",
    "        plt.xlim(0, 50)\n",
    "        plt.ylim(0, 50)\n",
    "        \n",
    "        optimal_x1 = variable_list[0].solution_value()\n",
    "        optimal_x2 = variable_list[1].solution_value()\n",
    "        \n",
    "        plt.plot(optimal_x1, optimal_x2, 'ro', label='Optimal solution')\n",
    "        \n",
    "        plt.xlabel(variable_list[0].name())\n",
    "        plt.ylabel(variable_list[1].name())\n",
    "        plt.legend()\n",
    "        plt.title('Feasible Region and Optimal Solution')\n",
    "        plt.show()\n",
    "    \n",
    "    elif num_vars == 3:\n",
    "        fig = plt.figure()\n",
    "        ax = fig.add_subplot(111, projection='3d')\n",
    "        \n",
    "        x1_vals = np.linspace(0, 50, 50)\n",
    "        x2_vals = np.linspace(0, 50, 50)\n",
    "        x1_vals, x2_vals = np.meshgrid(x1_vals, x2_vals)\n",
    "        \n",
    "        for constraint in constraint_list:\n",
    "            coeffs = constraint.coefficients()\n",
    "            intercept = constraint.ub()\n",
    "            if coeffs[2] != 0:\n",
    "                z_vals = (intercept - coeffs[0] * x1_vals - coeffs[1] * x2_vals) / coeffs[2]\n",
    "                ax.plot_surface(x1_vals, x2_vals, z_vals, alpha=0.5, label=constraint.name())\n",
    "        \n",
    "        optimal_x1 = variable_list[0].solution_value()\n",
    "        optimal_x2 = variable_list[1].solution_value()\n",
    "        optimal_x3 = variable_list[2].solution_value()\n",
    "        \n",
    "        ax.scatter(optimal_x1, optimal_x2, optimal_x3, color='red', s=100)\n",
    "        \n",
    "        ax.set_xlabel(variable_list[0].name())\n",
    "        ax.set_ylabel(variable_list[1].name())\n",
    "        ax.set_zlabel(variable_list[2].name())\n",
    "        plt.title('Feasible Region and Optimal Solution')\n",
    "        plt.show()\n"
   ]
  },
  {
   "cell_type": "markdown",
   "metadata": {},
   "source": [
    "run code"
   ]
  },
  {
   "cell_type": "code",
   "execution_count": null,
   "metadata": {},
   "outputs": [],
   "source": [
    "\n",
    "\n"
   ]
  },
  {
   "cell_type": "code",
   "execution_count": 60,
   "metadata": {},
   "outputs": [
    {
     "name": "stdout",
     "output_type": "stream",
     "text": [
      "# of variables = 3\n",
      "# of constraints = 3\n",
      "Problem solved in 0.000000 milliseconds\n",
      "Optimal objective value = 82000.000000\n",
      "X1 = 80.000000\n",
      "X2 = 600.000000\n",
      "X3 = 0.000000\n",
      "Problem solved in 0 iterations\n",
      "X1: reduced cost = 0.000000\n",
      "X2: reduced cost = 0.000000\n",
      "X3: reduced cost = 0.000000\n",
      "constraint 0: dual value (shadow price) = 0.090000\n",
      "              final value (activity) = 1000000.000000\n",
      "              slack  = 0.000000\n",
      "constraint 1: dual value (shadow price) = 0.000000\n",
      "              final value (activity) = 0.000000\n",
      "              slack  = 250000.000000\n",
      "constraint 2: dual value (shadow price) = -0.020000\n",
      "              final value (activity) = 400000.000000\n",
      "              slack  = inf\n"
     ]
    }
   ],
   "source": [
    "\n",
    "# Define the solver to use\n",
    "solver = pywraplp.Solver('SolveSimpleSystem', pywraplp.Solver.GLOP_LINEAR_PROGRAMMING)\n",
    "# Define the problem\n",
    "infinity = solver.infinity()\n",
    "x1 = solver.NumVar(0.0, 200, 'X1')\n",
    "x2 = solver.NumVar(0.0, 1000, 'X2')\n",
    "x3 = solver.NumVar(0.0, 100, 'X3')\n",
    "\n",
    "solver.Maximize(350 * x1 + 90 * x2 + 900 * x3)\n",
    "c0 = solver.Add(5000 * x1 + 1000 * x2 + 10000 * x3  == 1000000, 'capital')\n",
    "c1 = solver.Add(10000 * x3 <= 250000, 'risk')\n",
    "c2 = solver.Add(5000 * x1 >= 400000, 'safety')\n",
    "\n",
    "ShowResults(solver, [x1, x2, x3], [c0, c1, c2])\n",
    "\n",
    "solver.Solve()\n",
    "print(\"Rafinery Solution:\")\n",
    "print(\"Rafinery A work days:\", xa.solution_value())\n",
    "print(\"Rafinery B work days:\", xb.solution_value())\n",
    "print(\"Cost : \", solver.Objective().Value())\n",
    "\n",
    "#plot_solution([x1, x2], [c0, c1, c2])\n"
   ]
  },
  {
   "cell_type": "code",
   "execution_count": 61,
   "metadata": {},
   "outputs": [
    {
     "name": "stdout",
     "output_type": "stream",
     "text": [
      "# of variables = 2\n",
      "# of constraints = 2\n",
      "Problem solved in 0.000000 milliseconds\n",
      "Optimal objective value = 400.000000\n",
      "XA = 4.000000\n",
      "XB = 8.000000\n",
      "Problem solved in 2 iterations\n",
      "XA: reduced cost = -0.000000\n",
      "XB: reduced cost = -0.000000\n",
      "constraint 0: dual value (shadow price) = 20.000000\n",
      "              final value (activity) = 12.000000\n",
      "              slack  = 0.000000\n",
      "constraint 1: dual value (shadow price) = 10.000000\n",
      "              final value (activity) = 16.000000\n",
      "              slack  = 0.000000\n"
     ]
    },
    {
     "ename": "AttributeError",
     "evalue": "'Constraint' object has no attribute 'coefficients'",
     "output_type": "error",
     "traceback": [
      "\u001b[0;31m---------------------------------------------------------------------------\u001b[0m",
      "\u001b[0;31mAttributeError\u001b[0m                            Traceback (most recent call last)",
      "Cell \u001b[0;32mIn[61], line 16\u001b[0m\n\u001b[1;32m     11\u001b[0m c1 \u001b[38;5;241m=\u001b[39m solver\u001b[38;5;241m.\u001b[39mAdd(\u001b[38;5;241m2\u001b[39m \u001b[38;5;241m*\u001b[39m x1 \u001b[38;5;241m+\u001b[39m x2 \u001b[38;5;241m<\u001b[39m\u001b[38;5;241m=\u001b[39m \u001b[38;5;241m16\u001b[39m, \u001b[38;5;124m'\u001b[39m\u001b[38;5;124mConstraint 2\u001b[39m\u001b[38;5;124m'\u001b[39m)\n\u001b[1;32m     14\u001b[0m ShowResults(solver, [x1, x2], [c0, c1])\n\u001b[0;32m---> 16\u001b[0m \u001b[43mplot_solution\u001b[49m\u001b[43m(\u001b[49m\u001b[43m[\u001b[49m\u001b[43mx1\u001b[49m\u001b[43m,\u001b[49m\u001b[43m \u001b[49m\u001b[43mx2\u001b[49m\u001b[43m]\u001b[49m\u001b[43m,\u001b[49m\u001b[43m \u001b[49m\u001b[43m[\u001b[49m\u001b[43mc0\u001b[49m\u001b[43m,\u001b[49m\u001b[43m \u001b[49m\u001b[43mc1\u001b[49m\u001b[43m]\u001b[49m\u001b[43m)\u001b[49m\n",
      "Cell \u001b[0;32mIn[59], line 14\u001b[0m, in \u001b[0;36mplot_solution\u001b[0;34m(variable_list, constraint_list)\u001b[0m\n\u001b[1;32m     11\u001b[0m plt\u001b[38;5;241m.\u001b[39mfigure(figsize\u001b[38;5;241m=\u001b[39m(\u001b[38;5;241m10\u001b[39m, \u001b[38;5;241m6\u001b[39m))\n\u001b[1;32m     13\u001b[0m \u001b[38;5;28;01mfor\u001b[39;00m constraint \u001b[38;5;129;01min\u001b[39;00m constraint_list:\n\u001b[0;32m---> 14\u001b[0m     coeffs \u001b[38;5;241m=\u001b[39m \u001b[43mconstraint\u001b[49m\u001b[38;5;241;43m.\u001b[39;49m\u001b[43mcoefficients\u001b[49m()\n\u001b[1;32m     15\u001b[0m     intercept \u001b[38;5;241m=\u001b[39m constraint\u001b[38;5;241m.\u001b[39mub()\n\u001b[1;32m     16\u001b[0m     slope \u001b[38;5;241m=\u001b[39m \u001b[38;5;241m-\u001b[39mcoeffs[\u001b[38;5;241m0\u001b[39m] \u001b[38;5;241m/\u001b[39m coeffs[\u001b[38;5;241m1\u001b[39m] \u001b[38;5;28;01mif\u001b[39;00m coeffs[\u001b[38;5;241m1\u001b[39m] \u001b[38;5;241m!=\u001b[39m \u001b[38;5;241m0\u001b[39m \u001b[38;5;28;01melse\u001b[39;00m \u001b[38;5;28mfloat\u001b[39m(\u001b[38;5;124m'\u001b[39m\u001b[38;5;124minf\u001b[39m\u001b[38;5;124m'\u001b[39m)\n",
      "\u001b[0;31mAttributeError\u001b[0m: 'Constraint' object has no attribute 'coefficients'"
     ]
    },
    {
     "data": {
      "text/plain": [
       "<Figure size 1000x600 with 0 Axes>"
      ]
     },
     "metadata": {},
     "output_type": "display_data"
    }
   ],
   "source": [
    "# Define the solver to use\n",
    "solver = pywraplp.Solver.CreateSolver('GLOP')\n",
    "\n",
    "# Define the problem\n",
    "infinity = solver.infinity()\n",
    "x1 = solver.NumVar(0.0, infinity, 'XA')\n",
    "x2 = solver.NumVar(0.0, infinity, 'XB')\n",
    "\n",
    "solver.Maximize(40 * x1 + 30 * x2)\n",
    "c0 = solver.Add(x1 + x2 <= 12, 'Constraint 1')\n",
    "c1 = solver.Add(2 * x1 + x2 <= 16, 'Constraint 2')\n",
    "\n",
    "\n",
    "ShowResults(solver, [x1, x2], [c0, c1])\n",
    "\n",
    "plot_solution([x1, x2], [c0, c1])"
   ]
  }
 ],
 "metadata": {
  "kernelspec": {
   "display_name": "OR",
   "language": "python",
   "name": "python3"
  },
  "language_info": {
   "codemirror_mode": {
    "name": "ipython",
    "version": 3
   },
   "file_extension": ".py",
   "mimetype": "text/x-python",
   "name": "python",
   "nbconvert_exporter": "python",
   "pygments_lexer": "ipython3",
   "version": "3.11.11"
  }
 },
 "nbformat": 4,
 "nbformat_minor": 2
}
