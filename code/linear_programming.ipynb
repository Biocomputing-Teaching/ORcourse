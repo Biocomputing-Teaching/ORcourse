{
 "cells": [
  {
   "cell_type": "markdown",
   "metadata": {},
   "source": [
    "# A function to solve a linear programming problem using OR-Tools library.\n",
    "\n",
    "Input: \n",
    "- solver: A solver object created using pywraplp module of OR-Tools library.\n",
    "- variable_list: A list of variables used in the problem, created using the NumVar method of the solver object.\n",
    "- constraint_list: A list of constraints added to the problem, created using the Add method of the solver object.\n",
    "\n",
    "Output:\n",
    "- Prints the number of variables and constraints in the problem.\n",
    "- Solves the problem and prints the optimal solution, time taken, and reduced cost of each variable.\n",
    "- Prints the dual value and activity level of each constraint.\n",
    "\n",
    "\n"
   ]
  },
  {
   "cell_type": "code",
   "execution_count": 3,
   "metadata": {},
   "outputs": [],
   "source": [
    "\n",
    "from ortools.linear_solver import pywraplp\n",
    "\n",
    "def ShowResults(solver, variable_list, constraint_list):\n",
    "    \"\"\"Solve the problem and print the solution.\"\"\"\n",
    "    print('# of variables = %d' % solver.NumVariables())\n",
    "    print('# of constraints = %d' % solver.NumConstraints())\n",
    "\n",
    "    result_status = solver.Solve()\n",
    "\n",
    "    # check results are ok\n",
    "    assert result_status == pywraplp.Solver.OPTIMAL\n",
    "    assert solver.VerifySolution(1e-7, True)\n",
    "\n",
    "    print('Problem solved in %f milliseconds' % solver.wall_time())\n",
    "    print('Optimal objective value = %f' % solver.Objective().Value())\n",
    "    for variable in variable_list:\n",
    "        print('%s = %f' % (variable.name(), variable.solution_value()))\n",
    "    print('Problem solved in %d iterations' % solver.iterations())\n",
    "    for variable in variable_list:\n",
    "        print('%s: reduced cost = %f' %\n",
    "              (variable.name(), variable.reduced_cost()))\n",
    "    activities = solver.ComputeConstraintActivities()\n",
    "    for i, constraint in enumerate(constraint_list):\n",
    "        print(('constraint %d: dual value (shadow price) = %f\\n'\n",
    "               '              final value (activity) = %f\\n'\n",
    "               '              slack  = %f' %\n",
    "               (i, constraint.dual_value(), activities[constraint.index()],constraint.ub()-activities[constraint.index()])))\n"
   ]
  },
  {
   "cell_type": "markdown",
   "metadata": {},
   "source": [
    "run code"
   ]
  },
  {
   "cell_type": "code",
   "execution_count": 4,
   "metadata": {},
   "outputs": [
    {
     "name": "stdout",
     "output_type": "stream",
     "text": [
      "# of variables = 2\n",
      "# of constraints = 3\n",
      "Problem solved in 4.000000 milliseconds\n",
      "Optimal objective value = 2750.000000\n",
      "XA = 25.000000\n",
      "XB = 25.000000\n",
      "Problem solved in 4 iterations\n",
      "XA: reduced cost = 0.000000\n",
      "XB: reduced cost = 0.000000\n",
      "constraint 0: dual value (shadow price) = 0.437500\n",
      "              final value (activity) = 2000.000000\n",
      "              slack  = 0.000000\n",
      "constraint 1: dual value (shadow price) = -0.000000\n",
      "              final value (activity) = 275.000000\n",
      "              slack  = 25.000000\n",
      "constraint 2: dual value (shadow price) = 9.375000\n",
      "              final value (activity) = 200.000000\n",
      "              slack  = 0.000000\n"
     ]
    }
   ],
   "source": [
    "\n",
    "# Define the solver to use\n",
    "solver = pywraplp.Solver.CreateSolver('GLOP')\n",
    "\n",
    "# Define the problem\n",
    "infinity = solver.infinity()\n",
    "x1 = solver.NumVar(0.0, infinity, 'XA')\n",
    "x2 = solver.NumVar(0.0, infinity, 'XB')\n",
    "\n",
    "solver.Maximize(50 * x1 + 60 * x2)\n",
    "c0 = solver.Add(50 * x1 + 30 * x2  <= 2000, 'Material')\n",
    "c1 = solver.Add(6 * x1 + 5 * x2  <= 300, 'MachineTime')\n",
    "c2 = solver.Add(3 * x1 + 5 * x2  <= 200, 'Labor')\n",
    "\n",
    "ShowResults(solver, [x1, x2], [c0, c1, c2])\n",
    "\n"
   ]
  }
 ],
 "metadata": {
  "kernelspec": {
   "display_name": "Python 3",
   "language": "python",
   "name": "python3"
  },
  "language_info": {
   "codemirror_mode": {
    "name": "ipython",
    "version": 3
   },
   "file_extension": ".py",
   "mimetype": "text/x-python",
   "name": "python",
   "nbconvert_exporter": "python",
   "pygments_lexer": "ipython3",
   "version": "3.12.2"
  }
 },
 "nbformat": 4,
 "nbformat_minor": 2
}
