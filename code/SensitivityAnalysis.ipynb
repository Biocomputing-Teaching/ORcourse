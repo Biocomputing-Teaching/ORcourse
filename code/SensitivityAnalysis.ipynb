{
 "cells": [
  {
   "cell_type": "code",
   "execution_count": 22,
   "metadata": {},
   "outputs": [
    {
     "name": "stdout",
     "output_type": "stream",
     "text": [
      "Status: Optimal\n",
      "\n",
      "c1: slack = -0.00, shadow price = 1.00\n",
      "c2: slack = 37.00, shadow price = -0.00\n",
      "c3: slack = -0.00, shadow price = 3.00\n",
      "X1 = 0.0\n",
      "X2 = 10.4\n",
      "X3 = 0.0\n",
      "X4 = 0.4\n",
      "Objective =  42.0\n"
     ]
    }
   ],
   "source": [
    "from pulp import LpProblem, LpVariable, LpMaximize, LpMinimize, LpStatus, lpSum, value, apis\n",
    "\n",
    "# from pulp import pulpTestAll\n",
    "# pulpTestAll()\n",
    "\n",
    "# 1. Initialise model\n",
    "model = LpProblem(\"Maximize LP\", LpMaximize)\n",
    "\n",
    "# 2. Define Decision Variables: \n",
    "x1 = LpVariable('X1', lowBound=0, upBound=None, cat=\"Continuous\")\n",
    "x2 = LpVariable('X2', lowBound=0, upBound=None, cat=\"Continuous\")\n",
    "x3 = LpVariable('X3', lowBound=0, upBound=None, cat=\"Continuous\")\n",
    "x4 = LpVariable('X4', lowBound=0, upBound=None, cat=\"Continuous\")\n",
    "\n",
    "# 3. Define objective function: \n",
    "model += lpSum(2 * x1 + 4 * x2 + 3 * x3 + x4), 'obj'\n",
    "\n",
    "# 4. Define constraints: our model's limitations\n",
    "model += lpSum(3 * x1 + x2 +x3 + 4 * x4) <= 12, 'c1'\n",
    "model += lpSum(x1 -3*x2 + 2*x3 + 3 * x4) <= 7, 'c2'  \n",
    "model += lpSum(2*x1 + x2 + 3*x3 - x4) <= 10, 'c3'\n",
    "        \n",
    "\n",
    "# 5. Solve model\n",
    "model.solve(apis.PULP_CBC_CMD(msg=0))\n",
    "\n",
    "print(f\"Status: {LpStatus[model.status]}\\n\")\n",
    "for name, c in model.constraints.items():\n",
    "    print(f\"{name}: slack = {c.slack:.2f}, shadow price = {c.pi:.2f}\")\n",
    "\n",
    "for v in model.variables():\n",
    "    print(v.name,\"=\", v.varValue)\n",
    "print(\"Objective = \", value(model.objective))\n"
   ]
  },
  {
   "cell_type": "markdown",
   "metadata": {},
   "source": [
    "## Change of an objective function coefficient\n",
    "\n",
    "1. Variable is non-basic (it takes a value of zero in the solution). For example, let us modify the"
   ]
  },
  {
   "cell_type": "code",
   "execution_count": 23,
   "metadata": {},
   "outputs": [
    {
     "name": "stdout",
     "output_type": "stream",
     "text": [
      "X1 = 2.0 \n",
      "X2 = 6.0 \n",
      "X3 = 0.0 \n",
      "X4 = 0.0 \n",
      "Optimal value of the function: 28.0\n"
     ]
    }
   ],
   "source": [
    "model.constraints['c1'][x1]\n",
    "oldvalue = model.objective[x1]\n",
    "model.objective[x1] = 10\n",
    "model.solve()\n",
    "print(\"X1 = {} \".format(x1.varValue))\n",
    "print(\"X2 = {} \".format(x2.varValue))\n",
    "print(\"X3 = {} \".format(x3.varValue))\n",
    "print(\"X4 = {} \".format(x4.varValue))\n",
    "print(f\"Optimal value of the function: {(x1.varValue * 2) + (x2.varValue * 4) + (x3.varValue * 3) + (x4.varValue)}\")\n",
    "model.objective[x1] = oldvalue  # return to original value"
   ]
  },
  {
   "cell_type": "markdown",
   "metadata": {},
   "source": [
    "## Changing the RHS of a constraint\n",
    "It depends if it is binding or not binding"
   ]
  },
  {
   "cell_type": "code",
   "execution_count": 24,
   "metadata": {},
   "outputs": [
    {
     "name": "stdout",
     "output_type": "stream",
     "text": [
      "X1 = 0.0 \n",
      "X2 = 10.6 \n",
      "X3 = 0.0 \n",
      "X4 = 0.6 \n",
      "Optimal value of the function: 43.0\n"
     ]
    }
   ],
   "source": [
    "\n",
    "model.constraints['c1'] = lpSum(3 * x1 + x2 +x3 + 4 * x4) <= 13\n",
    "model.solve()\n",
    "print(\"X1 = {} \".format(x1.varValue))\n",
    "print(\"X2 = {} \".format(x2.varValue))\n",
    "print(\"X3 = {} \".format(x3.varValue))\n",
    "print(\"X4 = {} \".format(x4.varValue))\n",
    "print(f\"Optimal value of the function: {(x1.varValue * 2) + (x2.varValue * 4) + (x3.varValue * 3) + (x4.varValue)}\")"
   ]
  },
  {
   "cell_type": "markdown",
   "metadata": {},
   "source": [
    "## Adding a constrain\n",
    "\n",
    "1. Original solution satisfies new constraint:\n",
    "* If your initial solution already satisfies the new constraint, the problem is still feasible, and you might not need to change anything.\n",
    "* In this case, you can still use your original solution because it meets the new requirements. The value of the objective function (whether it is a cost to minimize or profit to maximize) will not increase. If your original solution was already optimal, it remains optimal.\n",
    "2. Original solution does not satisfy new constraint:\n",
    "* If the original solution no longer satisfies the new constraint, the problem might become infeasible, or you may need to find a new solution that satisfies all constraints.\n",
    "* If the problem is still feasible (i.e., a solution exists), you must find a new solution. However, since the new constraint makes the problem harder (i.e., more restrictive), the new solution will likely have a worse objective value than the original one. The value of the objective function will decrease, because adding constraints typically limits the feasible solution space, making it harder to achieve a better outcome."
   ]
  }
 ],
 "metadata": {
  "kernelspec": {
   "display_name": "OR",
   "language": "python",
   "name": "python3"
  },
  "language_info": {
   "codemirror_mode": {
    "name": "ipython",
    "version": 3
   },
   "file_extension": ".py",
   "mimetype": "text/x-python",
   "name": "python",
   "nbconvert_exporter": "python",
   "pygments_lexer": "ipython3",
   "version": "3.12.7"
  }
 },
 "nbformat": 4,
 "nbformat_minor": 2
}
