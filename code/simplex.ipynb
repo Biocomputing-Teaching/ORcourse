{
 "cells": [
  {
   "cell_type": "code",
   "execution_count": 1,
   "metadata": {},
   "outputs": [
    {
     "name": "stdout",
     "output_type": "stream",
     "text": [
      "x1: 60.0\n",
      "x2: 500.0\n",
      "x3: 20.0\n",
      "capital constraint: 1000000.0\n",
      "Z :  89000.0\n"
     ]
    }
   ],
   "source": [
    "from ortools.linear_solver import pywraplp\n",
    "\n",
    "# Define the solver to use\n",
    "solver = pywraplp.Solver('SolveSimpleSystem', pywraplp.Solver.GLOP_LINEAR_PROGRAMMING)\n",
    "# Define the problem\n",
    "infinity = solver.infinity()\n",
    "x1 = solver.NumVar(0.0, infinity, 'X1')\n",
    "x2 = solver.NumVar(0.0, infinity, 'X2')\n",
    "x3 = solver.NumVar(0.0, infinity, 'X3')\n",
    "\n",
    "# solver.Maximize(300 * x1 + 80 * x2 + 1000 * x3)\n",
    "# constr1 = solver.Add(5000 * x1 + 1000 * x2 + 10000 * x3  == 1000000, 'capital')\n",
    "# constr2 = solver.Add(10000 * x3 <= 250000, 'risk')\n",
    "# constr3 = solver.Add(5000 * x1 >= 400000, 'safety')\n",
    "\n",
    "# solver.Maximize(350 * x1 + 90 * x2 + 900 * x3)\n",
    "# constr1 = solver.Add(5000 * x1 + 1000 * x2 + 10000 * x3  == 1000000, 'capital')\n",
    "# constr2 = solver.Add(10000 * x3 <= 250000, 'risk')\n",
    "# constr3 = solver.Add(5000 * x1 >= 400000, 'safety')\n",
    "\n",
    "solver.Maximize(150 * x1 + 100 * x2 + 1500 * x3)\n",
    "constr1 = solver.Add(5000 * x1 + 1000 * x2 + 10000 * x3  == 1000000, 'capital')\n",
    "constr2 = solver.Add(10000 * x3 <= 200000, 'risk')\n",
    "constr3 = solver.Add(5000 * x1 >= 300000, 'safety')\n",
    "\n",
    "solver.Solve()\n",
    "\n",
    "print(\"x1:\", x1.solution_value())\n",
    "print(\"x2:\", x2.solution_value())\n",
    "print(\"x3:\", x3.solution_value())\n",
    "print(\"capital constraint:\",5000 * x1.solution_value() + 1000 * x2.solution_value() + 10000 * x3.solution_value())\n",
    "print(\"Z : \", solver.Objective().Value())\n"
   ]
  }
 ],
 "metadata": {
  "kernelspec": {
   "display_name": "OR",
   "language": "python",
   "name": "python3"
  },
  "language_info": {
   "codemirror_mode": {
    "name": "ipython",
    "version": 3
   },
   "file_extension": ".py",
   "mimetype": "text/x-python",
   "name": "python",
   "nbconvert_exporter": "python",
   "pygments_lexer": "ipython3",
   "version": "3.11.11"
  }
 },
 "nbformat": 4,
 "nbformat_minor": 2
}
