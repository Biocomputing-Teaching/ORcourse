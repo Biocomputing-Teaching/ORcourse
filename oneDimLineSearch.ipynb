{
  "cells": [
    {
      "cell_type": "markdown",
      "metadata": {
        "colab_type": "text",
        "id": "view-in-github"
      },
      "source": [
        "<a href=\"https://colab.research.google.com/github/JordiVillaFreixa/ORcode/blob/main/oneDimLineSearch.ipynb\" target=\"_parent\"><img src=\"https://colab.research.google.com/assets/colab-badge.svg\" alt=\"Open In Colab\"/></a>"
      ]
    },
    {
      "cell_type": "markdown",
      "metadata": {
        "id": "r_0cNcDuj74r"
      },
      "source": [
        "# Line Search method in one dimension\n",
        "\n",
        "Adapted from [Geodose](https://www.geodose.com/2021/06/golden-section-search-python-application-example.html) and [MachineLearningMastery](https://machinelearningmastery.com/line-search-optimization-with-python/)\n"
      ]
    },
    {
      "cell_type": "code",
      "execution_count": 14,
      "metadata": {
        "id": "oJqzsNuH8vCf"
      },
      "outputs": [
        {
          "data": {
            "image/png": "[encoded data removed]",
            "text/plain": [
              "<Figure size 432x288 with 1 Axes>"
            ]
          },
          "metadata": {
            "needs_background": "light"
          },
          "output_type": "display_data"
        },
        {
          "name": "stdout",
          "output_type": "stream",
          "text": [
            "start=-3.0, direction=-0.5\n",
            "f=0.0, grad=-108.0\n"
          ]
        },
        {
          "name": "stderr",
          "output_type": "stream",
          "text": [
            "/home/jordi/anaconda3/lib/python3.9/site-packages/scipy/optimize/linesearch.py:327: LineSearchWarning: The line search algorithm did not converge\n",
            "  warn('The line search algorithm did not converge', LineSearchWarning)\n"
          ]
        },
        {
          "ename": "ValueError",
          "evalue": "It seems Alpha did not conferge",
          "output_type": "error",
          "traceback": [
            "\u001b[0;31m---------------------------------------------------------------------------\u001b[0m",
            "\u001b[0;31mValueError\u001b[0m                                Traceback (most recent call last)",
            "\u001b[0;32m/tmp/ipykernel_315380/1451973548.py\u001b[0m in \u001b[0;36m<module>\u001b[0;34m\u001b[0m\n\u001b[1;32m     89\u001b[0m \u001b[0;34m\u001b[0m\u001b[0m\n\u001b[1;32m     90\u001b[0m \u001b[0;31m# run the optimization\u001b[0m\u001b[0;34m\u001b[0m\u001b[0;34m\u001b[0m\u001b[0m\n\u001b[0;32m---> 91\u001b[0;31m \u001b[0moptimize_line_search\u001b[0m\u001b[0;34m(\u001b[0m\u001b[0mxl\u001b[0m\u001b[0;34m,\u001b[0m\u001b[0mxu\u001b[0m\u001b[0;34m,\u001b[0m\u001b[0mpoint\u001b[0m\u001b[0;34m,\u001b[0m \u001b[0mdirection\u001b[0m\u001b[0;34m,\u001b[0m\u001b[0;34m'min'\u001b[0m\u001b[0;34m,\u001b[0m\u001b[0;36m0.05\u001b[0m\u001b[0;34m,\u001b[0m\u001b[0mfunction\u001b[0m\u001b[0;34m,\u001b[0m\u001b[0mgradient\u001b[0m\u001b[0;34m)\u001b[0m\u001b[0;34m\u001b[0m\u001b[0;34m\u001b[0m\u001b[0m\n\u001b[0m",
            "\u001b[0;32m/tmp/ipykernel_315380/1451973548.py\u001b[0m in \u001b[0;36moptimize_line_search\u001b[0;34m(xl, xu, point, direct, mode, et, f, grad)\u001b[0m\n\u001b[1;32m     59\u001b[0m         \u001b[0malpha\u001b[0m \u001b[0;34m=\u001b[0m \u001b[0mresult\u001b[0m\u001b[0;34m[\u001b[0m\u001b[0;36m0\u001b[0m\u001b[0;34m]\u001b[0m\u001b[0;34m\u001b[0m\u001b[0;34m\u001b[0m\u001b[0m\n\u001b[1;32m     60\u001b[0m         \u001b[0;32mif\u001b[0m \u001b[0malpha\u001b[0m \u001b[0;32mis\u001b[0m \u001b[0;32mNone\u001b[0m\u001b[0;34m:\u001b[0m\u001b[0;34m\u001b[0m\u001b[0;34m\u001b[0m\u001b[0m\n\u001b[0;32m---> 61\u001b[0;31m             \u001b[0;32mraise\u001b[0m \u001b[0mValueError\u001b[0m\u001b[0;34m(\u001b[0m\u001b[0;34m'It seems Alpha did not conferge'\u001b[0m\u001b[0;34m)\u001b[0m\u001b[0;34m\u001b[0m\u001b[0;34m\u001b[0m\u001b[0m\n\u001b[0m\u001b[1;32m     62\u001b[0m         \u001b[0;31m# define objective function minima\u001b[0m\u001b[0;34m\u001b[0m\u001b[0;34m\u001b[0m\u001b[0m\n\u001b[1;32m     63\u001b[0m         \u001b[0mend\u001b[0m \u001b[0;34m=\u001b[0m \u001b[0mpoint\u001b[0m \u001b[0;34m+\u001b[0m \u001b[0malpha\u001b[0m \u001b[0;34m*\u001b[0m \u001b[0mdirect\u001b[0m\u001b[0;34m\u001b[0m\u001b[0;34m\u001b[0m\u001b[0m\n",
            "\u001b[0;31mValueError\u001b[0m: It seems Alpha did not conferge"
          ]
        }
      ],
      "source": [
        "\n",
        "import numpy as np\n",
        "from scipy.optimize import line_search\n",
        "import matplotlib.pyplot as plt\n",
        "from IPython.display import clear_output\n",
        "import time\n",
        " \n",
        "def function(x):\n",
        "\t#return (-5.0 + x)**2.0\n",
        "    #return x**4-16*x**3+45*x**2-20*x+203\n",
        "    return -(x**5-2*x**4-23*x**3-12*x**2+36*x)\n",
        "\n",
        "def gradient(x):\n",
        "\t#return 2.0 * (-5.0 + x)\n",
        "    #return 4*x**3-48*x**2+90*x-20\n",
        "    return -(5*x**4-8*x**3-69*x**2-24*x+36)\n",
        "\n",
        "def plot_graph(xl,xu,x1,x2):\n",
        "    #clear_output(wait=True)\n",
        "    \n",
        "    #plot function graph\n",
        "    plt.plot(x,y)\n",
        "    #plt.plot([xl,xu],[0,0],'k')\n",
        "    \n",
        "    #plot x1 point\n",
        "    plt.plot(x1,function(x1),'ro',label='x1')\n",
        "    plt.plot([x1,x1],[0,function(x1)],'k')\n",
        "    \n",
        "    #plot x2 point\n",
        "    plt.plot(x2,function(x2),'bo',label='x2')\n",
        "    plt.plot([x2,x2],[0,function(x2)],'k')\n",
        "    \n",
        "    #plot xl line\n",
        "    plt.plot([xl,xl],[0,function(xl)])\n",
        "    plt.annotate('xl',xy=(xl-0.01,-0.2))\n",
        "        \n",
        "    #plot xu line\n",
        "    plt.plot([xu,xu],[0,function(xu)])\n",
        "    plt.annotate('xu',xy=(xu-0.01,-0.2))\n",
        "        \n",
        "    #plot x1 line\n",
        "    plt.plot([x1,x1],[0,function(x1)],'k')\n",
        "    plt.annotate('x1',xy=(x1-0.01,-0.2))\n",
        "        \n",
        "    #plot x2 line\n",
        "    plt.plot([x2,x2],[0,function(x2)],'k')\n",
        "    plt.annotate('x2',xy=(x2-0.01,-0.2))\n",
        "    \n",
        "    #y-axis limit\n",
        "    #plt.ylim([-1.2,1.2])\n",
        "    plt.show()\n",
        "\n",
        "def optimize_line_search(xl,xu,point,direct,mode,et,f,grad):\n",
        "    it=0\n",
        "    e=1\n",
        "\n",
        "    while e>=et:\n",
        "        result = line_search(f, grad, point, direct)\n",
        "        # summarize the result\n",
        "        alpha = result[0]\n",
        "        if alpha is None:\n",
        "            raise ValueError('It seems Alpha did not conferge')\n",
        "        # define objective function minima\n",
        "        end = point + alpha * direct\n",
        "        print(point,end)\n",
        "        plot_graph(xl,xu,point,end)\n",
        "        plt.show()\n",
        "        it+=1\n",
        "        e=abs(point-end)\n",
        "        print('a: %.3f Feval: %3d It: %3d Err: %.3f x: %.1f y: %.1f g: %.1f' % (alpha,result[1],it,e,end,f(end),grad(end)))\n",
        "        point=end\n",
        "        time.sleep(1)\n",
        "  \n",
        "# define the search interval and line search direction\n",
        "#xl,xu,direction = 2.5,14,1.0\n",
        "xl,xu,direction = -3,-1,-0.5\n",
        "\n",
        "# define x0 as the initial value of the interval\n",
        "point = xu\n",
        "\n",
        "# get the data to plot the function\n",
        "x=np.linspace(xl,xu,100)\n",
        "y=function(x)\n",
        "plot_graph(xl,xu,point,point)\n",
        "\n",
        "\n",
        "# print the initial conditions\n",
        "print('start=%.1f, direction=%.1f' % (point, direction))\n",
        "print('f=%.1f, grad=%.1f' % (function(point), gradient(point)))\n",
        "\n",
        "# run the optimization\n",
        "optimize_line_search(xl,xu,point, direction,'min',0.05,function,gradient)\n"
      ]
    }
  ],
  "metadata": {
    "colab": {
      "authorship_tag": "ABX9TyMsnzsadiYfiAO4cJbIOAGh",
      "collapsed_sections": [],
      "include_colab_link": true,
      "name": "oneDimLineSearch.ipynb",
      "private_outputs": true,
      "provenance": []
    },
    "kernelspec": {
      "display_name": "Python 3",
      "name": "python3"
    },
    "language_info": {
      "codemirror_mode": {
        "name": "ipython",
        "version": 3
      },
      "file_extension": ".py",
      "mimetype": "text/x-python",
      "name": "python",
      "nbconvert_exporter": "python",
      "pygments_lexer": "ipython3",
      "version": "3.9.7"
    }
  },
  "nbformat": 4,
  "nbformat_minor": 0
}
