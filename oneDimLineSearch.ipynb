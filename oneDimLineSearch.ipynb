{
  "nbformat": 4,
  "nbformat_minor": 0,
  "metadata": {
    "colab": {
      "name": "oneDimLineSearch.ipynb",
      "private_outputs": true,
      "provenance": [],
      "collapsed_sections": [],
      "authorship_tag": "ABX9TyMsnzsadiYfiAO4cJbIOAGh",
      "include_colab_link": true
    },
    "kernelspec": {
      "name": "python3",
      "display_name": "Python 3"
    },
    "language_info": {
      "name": "python"
    }
  },
  "cells": [
    {
      "cell_type": "markdown",
      "metadata": {
        "id": "view-in-github",
        "colab_type": "text"
      },
      "source": [
        "<a href=\"https://colab.research.google.com/github/JordiVillaFreixa/ORcode/blob/main/oneDimLineSearch.ipynb\" target=\"_parent\"><img src=\"https://colab.research.google.com/assets/colab-badge.svg\" alt=\"Open In Colab\"/></a>"
      ]
    },
    {
      "cell_type": "markdown",
      "source": [
        "# Line Search method in one dimension\n",
        "\n",
        "Adapted from [Geodose](https://www.geodose.com/2021/06/golden-section-search-python-application-example.html) and [MachineLearningMastery](https://machinelearningmastery.com/line-search-optimization-with-python/)\n"
      ],
      "metadata": {
        "id": "r_0cNcDuj74r"
      }
    },
    {
      "cell_type": "code",
      "execution_count": null,
      "metadata": {
        "id": "oJqzsNuH8vCf"
      },
      "outputs": [],
      "source": [
        "\n",
        "from numpy import arange\n",
        "from scipy.optimize import line_search\n",
        "from matplotlib import pyplot\n",
        " \n",
        "def function(x):\n",
        "\t#return (-5.0 + x)**2.0\n",
        "    return x**4-16*x**3+45*x**2-20*x+203\n",
        "\n",
        "def gradient(x):\n",
        "\t#return 2.0 * (-5.0 + x)\n",
        "    return 4*x**3-48*x**2+90*x-20\n",
        "\n",
        "def plot_graph(xl,xu,x1,x2):\n",
        "    clear_output(wait=True)\n",
        "    \n",
        "    #plot function graph\n",
        "    plt.plot(x,y)\n",
        "    #plt.plot([xl,xu],[0,0],'k')\n",
        "    \n",
        "    #plot x1 point\n",
        "    plt.plot(x1,function(x1),'ro',label='x1')\n",
        "    plt.plot([x1,x1],[0,function(x1)],'k')\n",
        "    \n",
        "    #plot x2 point\n",
        "    plt.plot(x2,function(x2),'bo',label='x2')\n",
        "    plt.plot([x2,x2],[0,function(x2)],'k')\n",
        "    \n",
        "    #plot xl line\n",
        "    plt.plot([xl,xl],[0,function(xl)])\n",
        "    plt.annotate('xl',xy=(xl-0.01,-0.2))\n",
        "        \n",
        "    #plot xu line\n",
        "    plt.plot([xu,xu],[0,function(xu)])\n",
        "    plt.annotate('xu',xy=(xu-0.01,-0.2))\n",
        "        \n",
        "    #plot x1 line\n",
        "    plt.plot([x1,x1],[0,function(x1)],'k')\n",
        "    plt.annotate('x1',xy=(x1-0.01,-0.2))\n",
        "        \n",
        "    #plot x2 line\n",
        "    plt.plot([x2,x2],[0,function(x2)],'k')\n",
        "    plt.annotate('x2',xy=(x2-0.01,-0.2))\n",
        "    \n",
        "    #y-axis limit\n",
        "    #plt.ylim([-1.2,1.2])\n",
        "    plt.show()\n",
        "\n",
        "def optimize_line_search(point,direct,mode,et,f,grad):\n",
        "    it=0\n",
        "    e=1\n",
        "\n",
        "    while e>=et:\n",
        "        result = line_search(f, grad, point, direct)\n",
        "        # summarize the result\n",
        "        alpha = result[0]\n",
        "        print('Alpha: %.3f' % alpha)\n",
        "        print('Function evaluations: %d' % result[1])\n",
        "        # define objective function minima\n",
        "        end = point + alpha * direct\n",
        "        # evaluate objective function minima\n",
        "        print('f(end) = f(%.3f) = %.3f' % (end, f(end)))\n",
        "        print('g(end) = g(%.3f) = %.3f' % (end, grad(end)))\n",
        "\n",
        "        it+=1\n",
        "        print ('Iteration: ',it)\n",
        "        e=(point-end)/point*100\n",
        "        print('Error:',e,' xopt:',end,' yopt:',f(end),' gradient:',grad(end))\n",
        "        point=end\n",
        " \n",
        "# define the starting point\n",
        "point = -5.0\n",
        "\n",
        "# define the direction to move\n",
        "direction = 100.0\n",
        "\n",
        "# print the initial conditions\n",
        "print('start=%.1f, direction=%.1f' % (point, direction))\n",
        "print('f=%.1f, grad=%.1f' % (function(point), gradient(point)))\n",
        "\n",
        "optimize_line_search(point, direction,'min',0.05,function,gradient)\n",
        "# perform the line search\n",
        "\n",
        "# define range\n",
        "r_min, r_max = -10.0, 20.0\n",
        "# prepare inputs\n",
        "inputs = arange(r_min, r_max, 0.1)\n",
        "# compute targets\n",
        "targets = [function(x) for x in inputs]\n",
        "# plot inputs vs function\n",
        "pyplot.plot(inputs, targets, '--', label='function')\n",
        "# plot start and end of the search\n",
        "pyplot.plot([point], [function(point)], 's', color='g')\n",
        "pyplot.plot([end], [function(end)], 's', color='r')\n",
        "pyplot.legend()\n",
        "pyplot.show()"
      ]
    }
  ]
}