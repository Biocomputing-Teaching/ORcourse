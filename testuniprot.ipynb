{
  "nbformat": 4,
  "nbformat_minor": 0,
  "metadata": {
    "colab": {
      "name": "Untitled1.ipynb",
      "private_outputs": true,
      "provenance": [],
      "authorship_tag": "ABX9TyNGrt1tYoMUEW1LUJFdnn22",
      "include_colab_link": true
    },
    "kernelspec": {
      "name": "python3",
      "display_name": "Python 3"
    },
    "language_info": {
      "name": "python"
    }
  },
  "cells": [
    {
      "cell_type": "markdown",
      "metadata": {
        "id": "view-in-github",
        "colab_type": "text"
      },
      "source": [
        "<a href=\"https://colab.research.google.com/github/JordiVillaFreixa/ORcode/blob/main/testuniprot.ipynb\" target=\"_parent\"><img src=\"https://colab.research.google.com/assets/colab-badge.svg\" alt=\"Open In Colab\"/></a>"
      ]
    },
    {
      "cell_type": "code",
      "execution_count": null,
      "metadata": {
        "id": "VkqSgNRah4z_"
      },
      "outputs": [],
      "source": [
        "import urllib.parse\n",
        "import urllib.request\n",
        "\n",
        "url = 'https://www.uniprot.org/uploadlists/'\n",
        "\n",
        "params = {\n",
        "'from': 'BIOMUTA_ID',\n",
        "'to': 'ACC+ID',\n",
        "'format': 'tab',\n",
        "'query': 'GPX1 GPX2 GPX3 GPX4 GPX5 GPX6 GPX7 GPX8'\n",
        "}\n",
        "\n",
        "data = urllib.parse.urlencode(params)\n",
        "print(data)\n",
        "data = data.encode('utf-8')\n",
        "req = urllib.request.Request(url, data)\n",
        "with urllib.request.urlopen(req) as f:\n",
        "   response = f.read()\n",
        "print(response.decode('utf-8'))\n",
        "info=response.decode('utf-8')\n",
        "fh=open('results.txt','w')\n",
        "fh.write(info)\n",
        "fh.close()"
      ]
    }
  ]
}