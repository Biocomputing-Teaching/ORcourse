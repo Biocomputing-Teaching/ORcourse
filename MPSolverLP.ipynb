{
  "nbformat": 4,
  "nbformat_minor": 0,
  "metadata": {
    "colab": {
      "name": "MPISolverLP.ipynb",
      "private_outputs": true,
      "provenance": [],
      "authorship_tag": "ABX9TyM6FHTueGL6JHTXm0pTwR3D",
      "include_colab_link": true
    },
    "kernelspec": {
      "name": "python3",
      "display_name": "Python 3"
    },
    "language_info": {
      "name": "python"
    }
  },
  "cells": [
    {
      "cell_type": "markdown",
      "metadata": {
        "id": "view-in-github",
        "colab_type": "text"
      },
      "source": [
        "<a href=\"https://colab.research.google.com/github/JordiVillaFreixa/ORcode/blob/main/MPISolverLP.ipynb\" target=\"_parent\"><img src=\"https://colab.research.google.com/assets/colab-badge.svg\" alt=\"Open In Colab\"/></a>"
      ]
    },
    {
      "cell_type": "markdown",
      "source": [
        "# Using MPSolver for linear programming tasks\n",
        "(based on the [MPSolver tutorial](https://developers.google.com/optimization/lp/lp_example))\n",
        "\n",
        "Testing the solver for exercises in the [presentation on linear programming](https://www.slideshare.net/JordiVilliFreixa/unit2-linear-programming-251297454) at the study abroad [course in OR](https://mon.uvic.cat/cbbl/teaching/operational-research/) at UVic-UCC"
      ],
      "metadata": {
        "id": "y0ePqOm9ncCS"
      }
    },
    {
      "cell_type": "code",
      "execution_count": null,
      "metadata": {
        "id": "dgoqTyjbm-C3"
      },
      "outputs": [],
      "source": [
        "!pip install ortools\n",
        "from ortools.linear_solver import pywraplp\n",
        "solver = pywraplp.Solver.CreateSolver('GLOP')\n",
        "\n",
        "x = solver.NumVar(0, solver.infinity(), 'x')\n",
        "y = solver.NumVar(0, solver.infinity(), 'y')\n",
        "\n",
        "print('Number of variables =', solver.NumVariables())\n",
        "\n",
        "# Constraint 0: x + 2y <= 14.\n",
        "solver.Add(x + 2 * y <= 14.0)\n",
        "\n",
        "# Constraint 1: 3x - y >= 0.\n",
        "solver.Add(3 * x - y >= 0.0)\n",
        "\n",
        "# Constraint 2: x - y <= 2.\n",
        "solver.Add(x - y <= 2.0)\n",
        "\n",
        "print('Number of constraints =', solver.NumConstraints())\n",
        "\n",
        "# Objective function: 3x + 4y.\n",
        "solver.Maximize(3 * x + 4 * y)\n",
        "\n",
        "status = solver.Solve()\n",
        "\n",
        "if status == pywraplp.Solver.OPTIMAL:\n",
        "    print('Solution:')\n",
        "    print('Objective value =', solver.Objective().Value())\n",
        "    print('x =', x.solution_value())\n",
        "    print('y =', y.solution_value())\n",
        "else:\n",
        "    print('The problem does not have an optimal solution.')"
      ]
    }
  ]
}