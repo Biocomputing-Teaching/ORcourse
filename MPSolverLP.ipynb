{
 "cells": [
  {
   "cell_type": "markdown",
   "metadata": {
    "colab_type": "text",
    "id": "view-in-github"
   },
   "source": [
    "<a href=\"https://colab.research.google.com/github/JordiVillaFreixa/ORcode/blob/main/MPISolverLP.ipynb\" target=\"_parent\"><img src=\"https://colab.research.google.com/assets/colab-badge.svg\" alt=\"Open In Colab\"/></a>"
   ]
  },
  {
   "cell_type": "markdown",
   "metadata": {
    "id": "y0ePqOm9ncCS"
   },
   "source": [
    "# Using MPSolver for linear programming tasks\n",
    "(based on the [MPSolver tutorial](https://developers.google.com/optimization/lp/lp_example))\n",
    "\n",
    "Testing the solver for exercises in the [presentation on linear programming](https://www.slideshare.net/JordiVilliFreixa/unit2-linear-programming-251297454) at the study abroad [course in OR](https://mon.uvic.cat/cbbl/teaching/operational-research/) at UVic-UCC"
   ]
  },
  {
   "cell_type": "code",
   "execution_count": 1,
   "metadata": {
    "id": "dgoqTyjbm-C3"
   },
   "outputs": [
    {
     "name": "stdout",
     "output_type": "stream",
     "text": [
      "Requirement already satisfied: ortools in /Users/jvilla/Library/Python/3.9/lib/python/site-packages (9.2.9972)\n",
      "Requirement already satisfied: numpy>=1.13.3 in /Users/jvilla/Library/Python/3.9/lib/python/site-packages (from ortools) (1.22.1)\n",
      "Requirement already satisfied: protobuf>=3.19.1 in /Users/jvilla/Library/Python/3.9/lib/python/site-packages (from ortools) (3.19.3)\n",
      "Requirement already satisfied: absl-py>=0.13 in /Users/jvilla/Library/Python/3.9/lib/python/site-packages (from ortools) (1.0.0)\n",
      "Requirement already satisfied: six in /Users/jvilla/Library/Python/3.9/lib/python/site-packages (from absl-py>=0.13->ortools) (1.16.0)\n",
      "Number of variables = 2\n",
      "Number of constraints = 3\n",
      "Solution:\n",
      "Objective value = 33.99999999999999\n",
      "x = 5.999999999999998\n",
      "y = 3.9999999999999996\n"
     ]
    }
   ],
   "source": [
    "!pip install ortools\n",
    "from ortools.linear_solver import pywraplp\n",
    "solver = pywraplp.Solver.CreateSolver('GLOP')\n",
    "\n",
    "x = solver.NumVar(0, solver.infinity(), 'x')\n",
    "y = solver.NumVar(0, solver.infinity(), 'y')\n",
    "\n",
    "print('Number of variables =', solver.NumVariables())\n",
    "\n",
    "# Constraint 0: x + 2y <= 14.\n",
    "solver.Add(x + 2 * y <= 14.0)\n",
    "\n",
    "# Constraint 1: 3x - y >= 0.\n",
    "solver.Add(3 * x - y >= 0.0)\n",
    "\n",
    "# Constraint 2: x - y <= 2.\n",
    "solver.Add(x - y <= 2.0)\n",
    "\n",
    "print('Number of constraints =', solver.NumConstraints())\n",
    "\n",
    "# Objective function: 3x + 4y.\n",
    "solver.Maximize(3 * x + 4 * y)\n",
    "\n",
    "status = solver.Solve()\n",
    "\n",
    "if status == pywraplp.Solver.OPTIMAL:\n",
    "    print('Solution:')\n",
    "    print('Objective value =', solver.Objective().Value())\n",
    "    print('x =', x.solution_value())\n",
    "    print('y =', y.solution_value())\n",
    "else:\n",
    "    print('The problem does not have an optimal solution.')"
   ]
  },
  {
   "cell_type": "code",
   "execution_count": null,
   "metadata": {},
   "outputs": [],
   "source": []
  }
 ],
 "metadata": {
  "colab": {
   "authorship_tag": "ABX9TyM6FHTueGL6JHTXm0pTwR3D",
   "include_colab_link": true,
   "name": "MPISolverLP.ipynb",
   "private_outputs": true,
   "provenance": []
  },
  "kernelspec": {
   "display_name": "Python 3 (ipykernel)",
   "language": "python",
   "name": "python3"
  },
  "language_info": {
   "codemirror_mode": {
    "name": "ipython",
    "version": 3
   },
   "file_extension": ".py",
   "mimetype": "text/x-python",
   "name": "python",
   "nbconvert_exporter": "python",
   "pygments_lexer": "ipython3",
   "version": "3.9.10"
  }
 },
 "nbformat": 4,
 "nbformat_minor": 4
}
